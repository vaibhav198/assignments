{
 "cells": [
  {
   "cell_type": "markdown",
   "metadata": {},
   "source": [
    "# Importing moludes"
   ]
  },
  {
   "cell_type": "code",
   "execution_count": 146,
   "metadata": {},
   "outputs": [],
   "source": [
    "import pandas as pd\n",
    "import numpy as np\n",
    "from sklearn.model_selection import train_test_split\n",
    "from sklearn.preprocessing import StandardScaler\n",
    "from sklearn.model_selection import cross_val_score\n",
    "from sklearn import metrics\n",
    "from sklearn.linear_model import LogisticRegression\n",
    "from sklearn.ensemble import RandomForestClassifier\n",
    "from sklearn.svm import LinearSVC\n",
    "from sklearn.metrics import accuracy_score\n",
    "from sklearn.metrics import classification_report\n",
    "import seaborn as sns\n",
    "import matplotlib.pyplot as plt"
   ]
  },
  {
   "cell_type": "code",
   "execution_count": 147,
   "metadata": {},
   "outputs": [],
   "source": [
    "#loading the dataset\n",
    "data = pd.read_csv('Algo8 Usecase/sample_data_intw.csv')"
   ]
  },
  {
   "cell_type": "code",
   "execution_count": 148,
   "metadata": {},
   "outputs": [
    {
     "name": "stdout",
     "output_type": "stream",
     "text": [
      "(209593, 37)\n"
     ]
    },
    {
     "data": {
      "text/html": [
       "<div>\n",
       "<style scoped>\n",
       "    .dataframe tbody tr th:only-of-type {\n",
       "        vertical-align: middle;\n",
       "    }\n",
       "\n",
       "    .dataframe tbody tr th {\n",
       "        vertical-align: top;\n",
       "    }\n",
       "\n",
       "    .dataframe thead th {\n",
       "        text-align: right;\n",
       "    }\n",
       "</style>\n",
       "<table border=\"1\" class=\"dataframe\">\n",
       "  <thead>\n",
       "    <tr style=\"text-align: right;\">\n",
       "      <th></th>\n",
       "      <th>Unnamed: 0</th>\n",
       "      <th>label</th>\n",
       "      <th>msisdn</th>\n",
       "      <th>aon</th>\n",
       "      <th>daily_decr30</th>\n",
       "      <th>daily_decr90</th>\n",
       "      <th>rental30</th>\n",
       "      <th>rental90</th>\n",
       "      <th>last_rech_date_ma</th>\n",
       "      <th>last_rech_date_da</th>\n",
       "      <th>...</th>\n",
       "      <th>maxamnt_loans30</th>\n",
       "      <th>medianamnt_loans30</th>\n",
       "      <th>cnt_loans90</th>\n",
       "      <th>amnt_loans90</th>\n",
       "      <th>maxamnt_loans90</th>\n",
       "      <th>medianamnt_loans90</th>\n",
       "      <th>payback30</th>\n",
       "      <th>payback90</th>\n",
       "      <th>pcircle</th>\n",
       "      <th>pdate</th>\n",
       "    </tr>\n",
       "  </thead>\n",
       "  <tbody>\n",
       "    <tr>\n",
       "      <th>0</th>\n",
       "      <td>1</td>\n",
       "      <td>0</td>\n",
       "      <td>21408I70789</td>\n",
       "      <td>272.0</td>\n",
       "      <td>3055.050000</td>\n",
       "      <td>3065.150000</td>\n",
       "      <td>220.13</td>\n",
       "      <td>260.13</td>\n",
       "      <td>2.0</td>\n",
       "      <td>0.0</td>\n",
       "      <td>...</td>\n",
       "      <td>6.0</td>\n",
       "      <td>0.0</td>\n",
       "      <td>2.0</td>\n",
       "      <td>12</td>\n",
       "      <td>6</td>\n",
       "      <td>0.0</td>\n",
       "      <td>29.000000</td>\n",
       "      <td>29.000000</td>\n",
       "      <td>UPW</td>\n",
       "      <td>2016-07-20</td>\n",
       "    </tr>\n",
       "    <tr>\n",
       "      <th>1</th>\n",
       "      <td>2</td>\n",
       "      <td>1</td>\n",
       "      <td>76462I70374</td>\n",
       "      <td>712.0</td>\n",
       "      <td>12122.000000</td>\n",
       "      <td>12124.750000</td>\n",
       "      <td>3691.26</td>\n",
       "      <td>3691.26</td>\n",
       "      <td>20.0</td>\n",
       "      <td>0.0</td>\n",
       "      <td>...</td>\n",
       "      <td>12.0</td>\n",
       "      <td>0.0</td>\n",
       "      <td>1.0</td>\n",
       "      <td>12</td>\n",
       "      <td>12</td>\n",
       "      <td>0.0</td>\n",
       "      <td>0.000000</td>\n",
       "      <td>0.000000</td>\n",
       "      <td>UPW</td>\n",
       "      <td>2016-08-10</td>\n",
       "    </tr>\n",
       "    <tr>\n",
       "      <th>2</th>\n",
       "      <td>3</td>\n",
       "      <td>1</td>\n",
       "      <td>17943I70372</td>\n",
       "      <td>535.0</td>\n",
       "      <td>1398.000000</td>\n",
       "      <td>1398.000000</td>\n",
       "      <td>900.13</td>\n",
       "      <td>900.13</td>\n",
       "      <td>3.0</td>\n",
       "      <td>0.0</td>\n",
       "      <td>...</td>\n",
       "      <td>6.0</td>\n",
       "      <td>0.0</td>\n",
       "      <td>1.0</td>\n",
       "      <td>6</td>\n",
       "      <td>6</td>\n",
       "      <td>0.0</td>\n",
       "      <td>0.000000</td>\n",
       "      <td>0.000000</td>\n",
       "      <td>UPW</td>\n",
       "      <td>2016-08-19</td>\n",
       "    </tr>\n",
       "    <tr>\n",
       "      <th>3</th>\n",
       "      <td>4</td>\n",
       "      <td>1</td>\n",
       "      <td>55773I70781</td>\n",
       "      <td>241.0</td>\n",
       "      <td>21.228000</td>\n",
       "      <td>21.228000</td>\n",
       "      <td>159.42</td>\n",
       "      <td>159.42</td>\n",
       "      <td>41.0</td>\n",
       "      <td>0.0</td>\n",
       "      <td>...</td>\n",
       "      <td>6.0</td>\n",
       "      <td>0.0</td>\n",
       "      <td>2.0</td>\n",
       "      <td>12</td>\n",
       "      <td>6</td>\n",
       "      <td>0.0</td>\n",
       "      <td>0.000000</td>\n",
       "      <td>0.000000</td>\n",
       "      <td>UPW</td>\n",
       "      <td>2016-06-06</td>\n",
       "    </tr>\n",
       "    <tr>\n",
       "      <th>4</th>\n",
       "      <td>5</td>\n",
       "      <td>1</td>\n",
       "      <td>03813I82730</td>\n",
       "      <td>947.0</td>\n",
       "      <td>150.619333</td>\n",
       "      <td>150.619333</td>\n",
       "      <td>1098.90</td>\n",
       "      <td>1098.90</td>\n",
       "      <td>4.0</td>\n",
       "      <td>0.0</td>\n",
       "      <td>...</td>\n",
       "      <td>6.0</td>\n",
       "      <td>0.0</td>\n",
       "      <td>7.0</td>\n",
       "      <td>42</td>\n",
       "      <td>6</td>\n",
       "      <td>0.0</td>\n",
       "      <td>2.333333</td>\n",
       "      <td>2.333333</td>\n",
       "      <td>UPW</td>\n",
       "      <td>2016-06-22</td>\n",
       "    </tr>\n",
       "  </tbody>\n",
       "</table>\n",
       "<p>5 rows × 37 columns</p>\n",
       "</div>"
      ],
      "text/plain": [
       "   Unnamed: 0  label       msisdn    aon  daily_decr30  daily_decr90  \\\n",
       "0           1      0  21408I70789  272.0   3055.050000   3065.150000   \n",
       "1           2      1  76462I70374  712.0  12122.000000  12124.750000   \n",
       "2           3      1  17943I70372  535.0   1398.000000   1398.000000   \n",
       "3           4      1  55773I70781  241.0     21.228000     21.228000   \n",
       "4           5      1  03813I82730  947.0    150.619333    150.619333   \n",
       "\n",
       "   rental30  rental90  last_rech_date_ma  last_rech_date_da  ...  \\\n",
       "0    220.13    260.13                2.0                0.0  ...   \n",
       "1   3691.26   3691.26               20.0                0.0  ...   \n",
       "2    900.13    900.13                3.0                0.0  ...   \n",
       "3    159.42    159.42               41.0                0.0  ...   \n",
       "4   1098.90   1098.90                4.0                0.0  ...   \n",
       "\n",
       "   maxamnt_loans30  medianamnt_loans30  cnt_loans90  amnt_loans90  \\\n",
       "0              6.0                 0.0          2.0            12   \n",
       "1             12.0                 0.0          1.0            12   \n",
       "2              6.0                 0.0          1.0             6   \n",
       "3              6.0                 0.0          2.0            12   \n",
       "4              6.0                 0.0          7.0            42   \n",
       "\n",
       "   maxamnt_loans90  medianamnt_loans90  payback30  payback90  pcircle  \\\n",
       "0                6                 0.0  29.000000  29.000000      UPW   \n",
       "1               12                 0.0   0.000000   0.000000      UPW   \n",
       "2                6                 0.0   0.000000   0.000000      UPW   \n",
       "3                6                 0.0   0.000000   0.000000      UPW   \n",
       "4                6                 0.0   2.333333   2.333333      UPW   \n",
       "\n",
       "        pdate  \n",
       "0  2016-07-20  \n",
       "1  2016-08-10  \n",
       "2  2016-08-19  \n",
       "3  2016-06-06  \n",
       "4  2016-06-22  \n",
       "\n",
       "[5 rows x 37 columns]"
      ]
     },
     "execution_count": 148,
     "metadata": {},
     "output_type": "execute_result"
    }
   ],
   "source": [
    "print(data.shape)\n",
    "data.head()"
   ]
  },
  {
   "cell_type": "code",
   "execution_count": 149,
   "metadata": {},
   "outputs": [
    {
     "data": {
      "text/html": [
       "<div>\n",
       "<style scoped>\n",
       "    .dataframe tbody tr th:only-of-type {\n",
       "        vertical-align: middle;\n",
       "    }\n",
       "\n",
       "    .dataframe tbody tr th {\n",
       "        vertical-align: top;\n",
       "    }\n",
       "\n",
       "    .dataframe thead th {\n",
       "        text-align: right;\n",
       "    }\n",
       "</style>\n",
       "<table border=\"1\" class=\"dataframe\">\n",
       "  <thead>\n",
       "    <tr style=\"text-align: right;\">\n",
       "      <th></th>\n",
       "      <th>Unnamed: 0</th>\n",
       "      <th>label</th>\n",
       "      <th>aon</th>\n",
       "      <th>daily_decr30</th>\n",
       "      <th>daily_decr90</th>\n",
       "      <th>rental30</th>\n",
       "      <th>rental90</th>\n",
       "      <th>last_rech_date_ma</th>\n",
       "      <th>last_rech_date_da</th>\n",
       "      <th>last_rech_amt_ma</th>\n",
       "      <th>...</th>\n",
       "      <th>cnt_loans30</th>\n",
       "      <th>amnt_loans30</th>\n",
       "      <th>maxamnt_loans30</th>\n",
       "      <th>medianamnt_loans30</th>\n",
       "      <th>cnt_loans90</th>\n",
       "      <th>amnt_loans90</th>\n",
       "      <th>maxamnt_loans90</th>\n",
       "      <th>medianamnt_loans90</th>\n",
       "      <th>payback30</th>\n",
       "      <th>payback90</th>\n",
       "    </tr>\n",
       "  </thead>\n",
       "  <tbody>\n",
       "    <tr>\n",
       "      <th>count</th>\n",
       "      <td>209593.000000</td>\n",
       "      <td>209593.000000</td>\n",
       "      <td>209593.000000</td>\n",
       "      <td>209593.000000</td>\n",
       "      <td>209593.000000</td>\n",
       "      <td>209593.000000</td>\n",
       "      <td>209593.000000</td>\n",
       "      <td>209593.000000</td>\n",
       "      <td>209593.000000</td>\n",
       "      <td>209593.000000</td>\n",
       "      <td>...</td>\n",
       "      <td>209593.000000</td>\n",
       "      <td>209593.000000</td>\n",
       "      <td>209593.000000</td>\n",
       "      <td>209593.000000</td>\n",
       "      <td>209593.000000</td>\n",
       "      <td>209593.000000</td>\n",
       "      <td>209593.000000</td>\n",
       "      <td>209593.000000</td>\n",
       "      <td>209593.000000</td>\n",
       "      <td>209593.000000</td>\n",
       "    </tr>\n",
       "    <tr>\n",
       "      <th>mean</th>\n",
       "      <td>104797.000000</td>\n",
       "      <td>0.875177</td>\n",
       "      <td>8112.343445</td>\n",
       "      <td>5381.402289</td>\n",
       "      <td>6082.515068</td>\n",
       "      <td>2692.581910</td>\n",
       "      <td>3483.406534</td>\n",
       "      <td>3755.847800</td>\n",
       "      <td>3712.202921</td>\n",
       "      <td>2064.452797</td>\n",
       "      <td>...</td>\n",
       "      <td>2.758981</td>\n",
       "      <td>17.952021</td>\n",
       "      <td>274.658747</td>\n",
       "      <td>0.054029</td>\n",
       "      <td>18.520919</td>\n",
       "      <td>23.645398</td>\n",
       "      <td>6.703134</td>\n",
       "      <td>0.046077</td>\n",
       "      <td>3.398826</td>\n",
       "      <td>4.321485</td>\n",
       "    </tr>\n",
       "    <tr>\n",
       "      <th>std</th>\n",
       "      <td>60504.431823</td>\n",
       "      <td>0.330519</td>\n",
       "      <td>75696.082531</td>\n",
       "      <td>9220.623400</td>\n",
       "      <td>10918.812767</td>\n",
       "      <td>4308.586781</td>\n",
       "      <td>5770.461279</td>\n",
       "      <td>53905.892230</td>\n",
       "      <td>53374.833430</td>\n",
       "      <td>2370.786034</td>\n",
       "      <td>...</td>\n",
       "      <td>2.554502</td>\n",
       "      <td>17.379741</td>\n",
       "      <td>4245.264648</td>\n",
       "      <td>0.218039</td>\n",
       "      <td>224.797423</td>\n",
       "      <td>26.469861</td>\n",
       "      <td>2.103864</td>\n",
       "      <td>0.200692</td>\n",
       "      <td>8.813729</td>\n",
       "      <td>10.308108</td>\n",
       "    </tr>\n",
       "    <tr>\n",
       "      <th>min</th>\n",
       "      <td>1.000000</td>\n",
       "      <td>0.000000</td>\n",
       "      <td>-48.000000</td>\n",
       "      <td>-93.012667</td>\n",
       "      <td>-93.012667</td>\n",
       "      <td>-23737.140000</td>\n",
       "      <td>-24720.580000</td>\n",
       "      <td>-29.000000</td>\n",
       "      <td>-29.000000</td>\n",
       "      <td>0.000000</td>\n",
       "      <td>...</td>\n",
       "      <td>0.000000</td>\n",
       "      <td>0.000000</td>\n",
       "      <td>0.000000</td>\n",
       "      <td>0.000000</td>\n",
       "      <td>0.000000</td>\n",
       "      <td>0.000000</td>\n",
       "      <td>0.000000</td>\n",
       "      <td>0.000000</td>\n",
       "      <td>0.000000</td>\n",
       "      <td>0.000000</td>\n",
       "    </tr>\n",
       "    <tr>\n",
       "      <th>25%</th>\n",
       "      <td>52399.000000</td>\n",
       "      <td>1.000000</td>\n",
       "      <td>246.000000</td>\n",
       "      <td>42.440000</td>\n",
       "      <td>42.692000</td>\n",
       "      <td>280.420000</td>\n",
       "      <td>300.260000</td>\n",
       "      <td>1.000000</td>\n",
       "      <td>0.000000</td>\n",
       "      <td>770.000000</td>\n",
       "      <td>...</td>\n",
       "      <td>1.000000</td>\n",
       "      <td>6.000000</td>\n",
       "      <td>6.000000</td>\n",
       "      <td>0.000000</td>\n",
       "      <td>1.000000</td>\n",
       "      <td>6.000000</td>\n",
       "      <td>6.000000</td>\n",
       "      <td>0.000000</td>\n",
       "      <td>0.000000</td>\n",
       "      <td>0.000000</td>\n",
       "    </tr>\n",
       "    <tr>\n",
       "      <th>50%</th>\n",
       "      <td>104797.000000</td>\n",
       "      <td>1.000000</td>\n",
       "      <td>527.000000</td>\n",
       "      <td>1469.175667</td>\n",
       "      <td>1500.000000</td>\n",
       "      <td>1083.570000</td>\n",
       "      <td>1334.000000</td>\n",
       "      <td>3.000000</td>\n",
       "      <td>0.000000</td>\n",
       "      <td>1539.000000</td>\n",
       "      <td>...</td>\n",
       "      <td>2.000000</td>\n",
       "      <td>12.000000</td>\n",
       "      <td>6.000000</td>\n",
       "      <td>0.000000</td>\n",
       "      <td>2.000000</td>\n",
       "      <td>12.000000</td>\n",
       "      <td>6.000000</td>\n",
       "      <td>0.000000</td>\n",
       "      <td>0.000000</td>\n",
       "      <td>1.666667</td>\n",
       "    </tr>\n",
       "    <tr>\n",
       "      <th>75%</th>\n",
       "      <td>157195.000000</td>\n",
       "      <td>1.000000</td>\n",
       "      <td>982.000000</td>\n",
       "      <td>7244.000000</td>\n",
       "      <td>7802.790000</td>\n",
       "      <td>3356.940000</td>\n",
       "      <td>4201.790000</td>\n",
       "      <td>7.000000</td>\n",
       "      <td>0.000000</td>\n",
       "      <td>2309.000000</td>\n",
       "      <td>...</td>\n",
       "      <td>4.000000</td>\n",
       "      <td>24.000000</td>\n",
       "      <td>6.000000</td>\n",
       "      <td>0.000000</td>\n",
       "      <td>5.000000</td>\n",
       "      <td>30.000000</td>\n",
       "      <td>6.000000</td>\n",
       "      <td>0.000000</td>\n",
       "      <td>3.750000</td>\n",
       "      <td>4.500000</td>\n",
       "    </tr>\n",
       "    <tr>\n",
       "      <th>max</th>\n",
       "      <td>209593.000000</td>\n",
       "      <td>1.000000</td>\n",
       "      <td>999860.755168</td>\n",
       "      <td>265926.000000</td>\n",
       "      <td>320630.000000</td>\n",
       "      <td>198926.110000</td>\n",
       "      <td>200148.110000</td>\n",
       "      <td>998650.377733</td>\n",
       "      <td>999171.809410</td>\n",
       "      <td>55000.000000</td>\n",
       "      <td>...</td>\n",
       "      <td>50.000000</td>\n",
       "      <td>306.000000</td>\n",
       "      <td>99864.560864</td>\n",
       "      <td>3.000000</td>\n",
       "      <td>4997.517944</td>\n",
       "      <td>438.000000</td>\n",
       "      <td>12.000000</td>\n",
       "      <td>3.000000</td>\n",
       "      <td>171.500000</td>\n",
       "      <td>171.500000</td>\n",
       "    </tr>\n",
       "  </tbody>\n",
       "</table>\n",
       "<p>8 rows × 34 columns</p>\n",
       "</div>"
      ],
      "text/plain": [
       "          Unnamed: 0          label            aon   daily_decr30  \\\n",
       "count  209593.000000  209593.000000  209593.000000  209593.000000   \n",
       "mean   104797.000000       0.875177    8112.343445    5381.402289   \n",
       "std     60504.431823       0.330519   75696.082531    9220.623400   \n",
       "min         1.000000       0.000000     -48.000000     -93.012667   \n",
       "25%     52399.000000       1.000000     246.000000      42.440000   \n",
       "50%    104797.000000       1.000000     527.000000    1469.175667   \n",
       "75%    157195.000000       1.000000     982.000000    7244.000000   \n",
       "max    209593.000000       1.000000  999860.755168  265926.000000   \n",
       "\n",
       "        daily_decr90       rental30       rental90  last_rech_date_ma  \\\n",
       "count  209593.000000  209593.000000  209593.000000      209593.000000   \n",
       "mean     6082.515068    2692.581910    3483.406534        3755.847800   \n",
       "std     10918.812767    4308.586781    5770.461279       53905.892230   \n",
       "min       -93.012667  -23737.140000  -24720.580000         -29.000000   \n",
       "25%        42.692000     280.420000     300.260000           1.000000   \n",
       "50%      1500.000000    1083.570000    1334.000000           3.000000   \n",
       "75%      7802.790000    3356.940000    4201.790000           7.000000   \n",
       "max    320630.000000  198926.110000  200148.110000      998650.377733   \n",
       "\n",
       "       last_rech_date_da  last_rech_amt_ma  ...    cnt_loans30   amnt_loans30  \\\n",
       "count      209593.000000     209593.000000  ...  209593.000000  209593.000000   \n",
       "mean         3712.202921       2064.452797  ...       2.758981      17.952021   \n",
       "std         53374.833430       2370.786034  ...       2.554502      17.379741   \n",
       "min           -29.000000          0.000000  ...       0.000000       0.000000   \n",
       "25%             0.000000        770.000000  ...       1.000000       6.000000   \n",
       "50%             0.000000       1539.000000  ...       2.000000      12.000000   \n",
       "75%             0.000000       2309.000000  ...       4.000000      24.000000   \n",
       "max        999171.809410      55000.000000  ...      50.000000     306.000000   \n",
       "\n",
       "       maxamnt_loans30  medianamnt_loans30    cnt_loans90   amnt_loans90  \\\n",
       "count    209593.000000       209593.000000  209593.000000  209593.000000   \n",
       "mean        274.658747            0.054029      18.520919      23.645398   \n",
       "std        4245.264648            0.218039     224.797423      26.469861   \n",
       "min           0.000000            0.000000       0.000000       0.000000   \n",
       "25%           6.000000            0.000000       1.000000       6.000000   \n",
       "50%           6.000000            0.000000       2.000000      12.000000   \n",
       "75%           6.000000            0.000000       5.000000      30.000000   \n",
       "max       99864.560864            3.000000    4997.517944     438.000000   \n",
       "\n",
       "       maxamnt_loans90  medianamnt_loans90      payback30      payback90  \n",
       "count    209593.000000       209593.000000  209593.000000  209593.000000  \n",
       "mean          6.703134            0.046077       3.398826       4.321485  \n",
       "std           2.103864            0.200692       8.813729      10.308108  \n",
       "min           0.000000            0.000000       0.000000       0.000000  \n",
       "25%           6.000000            0.000000       0.000000       0.000000  \n",
       "50%           6.000000            0.000000       0.000000       1.666667  \n",
       "75%           6.000000            0.000000       3.750000       4.500000  \n",
       "max          12.000000            3.000000     171.500000     171.500000  \n",
       "\n",
       "[8 rows x 34 columns]"
      ]
     },
     "execution_count": 149,
     "metadata": {},
     "output_type": "execute_result"
    }
   ],
   "source": [
    "data.describe()"
   ]
  },
  {
   "cell_type": "code",
   "execution_count": 150,
   "metadata": {},
   "outputs": [
    {
     "data": {
      "text/plain": [
       "1    183431\n",
       "0     26162\n",
       "Name: label, dtype: int64"
      ]
     },
     "execution_count": 150,
     "metadata": {},
     "output_type": "execute_result"
    }
   ],
   "source": [
    "data['label'].value_counts()"
   ]
  },
  {
   "cell_type": "code",
   "execution_count": 151,
   "metadata": {},
   "outputs": [
    {
     "name": "stdout",
     "output_type": "stream",
     "text": [
      "percentage of label 0:  12.482287099282896\n",
      "percentage of label 1:  87.5177129007171\n"
     ]
    }
   ],
   "source": [
    "per0 = (26162/209593)*100\n",
    "per1 = (183431/209593)*100\n",
    "print(\"percentage of label 0: \",per0)\n",
    "print(\"percentage of label 1: \",per1)"
   ]
  },
  {
   "cell_type": "code",
   "execution_count": 152,
   "metadata": {},
   "outputs": [
    {
     "data": {
      "text/plain": [
       "Unnamed: 0              0\n",
       "label                   0\n",
       "msisdn                  0\n",
       "aon                     0\n",
       "daily_decr30            0\n",
       "daily_decr90            0\n",
       "rental30                0\n",
       "rental90                0\n",
       "last_rech_date_ma       0\n",
       "last_rech_date_da       0\n",
       "last_rech_amt_ma        0\n",
       "cnt_ma_rech30           0\n",
       "fr_ma_rech30            0\n",
       "sumamnt_ma_rech30       0\n",
       "medianamnt_ma_rech30    0\n",
       "medianmarechprebal30    0\n",
       "cnt_ma_rech90           0\n",
       "fr_ma_rech90            0\n",
       "sumamnt_ma_rech90       0\n",
       "medianamnt_ma_rech90    0\n",
       "medianmarechprebal90    0\n",
       "cnt_da_rech30           0\n",
       "fr_da_rech30            0\n",
       "cnt_da_rech90           0\n",
       "fr_da_rech90            0\n",
       "cnt_loans30             0\n",
       "amnt_loans30            0\n",
       "maxamnt_loans30         0\n",
       "medianamnt_loans30      0\n",
       "cnt_loans90             0\n",
       "amnt_loans90            0\n",
       "maxamnt_loans90         0\n",
       "medianamnt_loans90      0\n",
       "payback30               0\n",
       "payback90               0\n",
       "pcircle                 0\n",
       "pdate                   0\n",
       "dtype: int64"
      ]
     },
     "execution_count": 152,
     "metadata": {},
     "output_type": "execute_result"
    }
   ],
   "source": [
    "#check missing(nan) values in the dataset\n",
    "data.isnull().sum()"
   ]
  },
  {
   "cell_type": "markdown",
   "metadata": {},
   "source": [
    "No missing values are there."
   ]
  },
  {
   "cell_type": "code",
   "execution_count": 153,
   "metadata": {},
   "outputs": [
    {
     "name": "stdout",
     "output_type": "stream",
     "text": [
      "<class 'pandas.core.frame.DataFrame'>\n",
      "RangeIndex: 209593 entries, 0 to 209592\n",
      "Data columns (total 37 columns):\n",
      "Unnamed: 0              209593 non-null int64\n",
      "label                   209593 non-null int64\n",
      "msisdn                  209593 non-null object\n",
      "aon                     209593 non-null float64\n",
      "daily_decr30            209593 non-null float64\n",
      "daily_decr90            209593 non-null float64\n",
      "rental30                209593 non-null float64\n",
      "rental90                209593 non-null float64\n",
      "last_rech_date_ma       209593 non-null float64\n",
      "last_rech_date_da       209593 non-null float64\n",
      "last_rech_amt_ma        209593 non-null int64\n",
      "cnt_ma_rech30           209593 non-null int64\n",
      "fr_ma_rech30            209593 non-null float64\n",
      "sumamnt_ma_rech30       209593 non-null float64\n",
      "medianamnt_ma_rech30    209593 non-null float64\n",
      "medianmarechprebal30    209593 non-null float64\n",
      "cnt_ma_rech90           209593 non-null int64\n",
      "fr_ma_rech90            209593 non-null int64\n",
      "sumamnt_ma_rech90       209593 non-null int64\n",
      "medianamnt_ma_rech90    209593 non-null float64\n",
      "medianmarechprebal90    209593 non-null float64\n",
      "cnt_da_rech30           209593 non-null float64\n",
      "fr_da_rech30            209593 non-null float64\n",
      "cnt_da_rech90           209593 non-null int64\n",
      "fr_da_rech90            209593 non-null int64\n",
      "cnt_loans30             209593 non-null int64\n",
      "amnt_loans30            209593 non-null int64\n",
      "maxamnt_loans30         209593 non-null float64\n",
      "medianamnt_loans30      209593 non-null float64\n",
      "cnt_loans90             209593 non-null float64\n",
      "amnt_loans90            209593 non-null int64\n",
      "maxamnt_loans90         209593 non-null int64\n",
      "medianamnt_loans90      209593 non-null float64\n",
      "payback30               209593 non-null float64\n",
      "payback90               209593 non-null float64\n",
      "pcircle                 209593 non-null object\n",
      "pdate                   209593 non-null object\n",
      "dtypes: float64(21), int64(13), object(3)\n",
      "memory usage: 59.2+ MB\n"
     ]
    }
   ],
   "source": [
    "#Let's see what different type of data is present\n",
    "data.info()"
   ]
  },
  {
   "cell_type": "code",
   "execution_count": 154,
   "metadata": {},
   "outputs": [],
   "source": [
    "#The column \"Unnamed: 0\" and \"msisdn\" have no significance, so drop it\n",
    "data.drop([\"Unnamed: 0\", \"msisdn\"], inplace=True, axis=1)\n"
   ]
  },
  {
   "cell_type": "code",
   "execution_count": 155,
   "metadata": {},
   "outputs": [
    {
     "data": {
      "text/plain": [
       "(209593, 35)"
      ]
     },
     "execution_count": 155,
     "metadata": {},
     "output_type": "execute_result"
    }
   ],
   "source": [
    "data.shape"
   ]
  },
  {
   "cell_type": "code",
   "execution_count": 156,
   "metadata": {},
   "outputs": [
    {
     "data": {
      "text/html": [
       "<div>\n",
       "<style scoped>\n",
       "    .dataframe tbody tr th:only-of-type {\n",
       "        vertical-align: middle;\n",
       "    }\n",
       "\n",
       "    .dataframe tbody tr th {\n",
       "        vertical-align: top;\n",
       "    }\n",
       "\n",
       "    .dataframe thead th {\n",
       "        text-align: right;\n",
       "    }\n",
       "</style>\n",
       "<table border=\"1\" class=\"dataframe\">\n",
       "  <thead>\n",
       "    <tr style=\"text-align: right;\">\n",
       "      <th></th>\n",
       "      <th>label</th>\n",
       "      <th>aon</th>\n",
       "      <th>daily_decr30</th>\n",
       "      <th>daily_decr90</th>\n",
       "      <th>rental30</th>\n",
       "      <th>rental90</th>\n",
       "      <th>last_rech_date_ma</th>\n",
       "      <th>last_rech_date_da</th>\n",
       "      <th>last_rech_amt_ma</th>\n",
       "      <th>cnt_ma_rech30</th>\n",
       "      <th>...</th>\n",
       "      <th>maxamnt_loans30</th>\n",
       "      <th>medianamnt_loans30</th>\n",
       "      <th>cnt_loans90</th>\n",
       "      <th>amnt_loans90</th>\n",
       "      <th>maxamnt_loans90</th>\n",
       "      <th>medianamnt_loans90</th>\n",
       "      <th>payback30</th>\n",
       "      <th>payback90</th>\n",
       "      <th>pcircle</th>\n",
       "      <th>pdate</th>\n",
       "    </tr>\n",
       "  </thead>\n",
       "  <tbody>\n",
       "    <tr>\n",
       "      <th>0</th>\n",
       "      <td>0</td>\n",
       "      <td>272.0</td>\n",
       "      <td>3055.05</td>\n",
       "      <td>3065.15</td>\n",
       "      <td>220.13</td>\n",
       "      <td>260.13</td>\n",
       "      <td>2.0</td>\n",
       "      <td>0.0</td>\n",
       "      <td>1539</td>\n",
       "      <td>2</td>\n",
       "      <td>...</td>\n",
       "      <td>6.0</td>\n",
       "      <td>0.0</td>\n",
       "      <td>2.0</td>\n",
       "      <td>12</td>\n",
       "      <td>6</td>\n",
       "      <td>0.0</td>\n",
       "      <td>29.0</td>\n",
       "      <td>29.0</td>\n",
       "      <td>UPW</td>\n",
       "      <td>2016-07-20</td>\n",
       "    </tr>\n",
       "    <tr>\n",
       "      <th>1</th>\n",
       "      <td>1</td>\n",
       "      <td>712.0</td>\n",
       "      <td>12122.00</td>\n",
       "      <td>12124.75</td>\n",
       "      <td>3691.26</td>\n",
       "      <td>3691.26</td>\n",
       "      <td>20.0</td>\n",
       "      <td>0.0</td>\n",
       "      <td>5787</td>\n",
       "      <td>1</td>\n",
       "      <td>...</td>\n",
       "      <td>12.0</td>\n",
       "      <td>0.0</td>\n",
       "      <td>1.0</td>\n",
       "      <td>12</td>\n",
       "      <td>12</td>\n",
       "      <td>0.0</td>\n",
       "      <td>0.0</td>\n",
       "      <td>0.0</td>\n",
       "      <td>UPW</td>\n",
       "      <td>2016-08-10</td>\n",
       "    </tr>\n",
       "    <tr>\n",
       "      <th>2</th>\n",
       "      <td>1</td>\n",
       "      <td>535.0</td>\n",
       "      <td>1398.00</td>\n",
       "      <td>1398.00</td>\n",
       "      <td>900.13</td>\n",
       "      <td>900.13</td>\n",
       "      <td>3.0</td>\n",
       "      <td>0.0</td>\n",
       "      <td>1539</td>\n",
       "      <td>1</td>\n",
       "      <td>...</td>\n",
       "      <td>6.0</td>\n",
       "      <td>0.0</td>\n",
       "      <td>1.0</td>\n",
       "      <td>6</td>\n",
       "      <td>6</td>\n",
       "      <td>0.0</td>\n",
       "      <td>0.0</td>\n",
       "      <td>0.0</td>\n",
       "      <td>UPW</td>\n",
       "      <td>2016-08-19</td>\n",
       "    </tr>\n",
       "  </tbody>\n",
       "</table>\n",
       "<p>3 rows × 35 columns</p>\n",
       "</div>"
      ],
      "text/plain": [
       "   label    aon  daily_decr30  daily_decr90  rental30  rental90  \\\n",
       "0      0  272.0       3055.05       3065.15    220.13    260.13   \n",
       "1      1  712.0      12122.00      12124.75   3691.26   3691.26   \n",
       "2      1  535.0       1398.00       1398.00    900.13    900.13   \n",
       "\n",
       "   last_rech_date_ma  last_rech_date_da  last_rech_amt_ma  cnt_ma_rech30  ...  \\\n",
       "0                2.0                0.0              1539              2  ...   \n",
       "1               20.0                0.0              5787              1  ...   \n",
       "2                3.0                0.0              1539              1  ...   \n",
       "\n",
       "   maxamnt_loans30  medianamnt_loans30  cnt_loans90  amnt_loans90  \\\n",
       "0              6.0                 0.0          2.0            12   \n",
       "1             12.0                 0.0          1.0            12   \n",
       "2              6.0                 0.0          1.0             6   \n",
       "\n",
       "   maxamnt_loans90  medianamnt_loans90  payback30  payback90  pcircle  \\\n",
       "0                6                 0.0       29.0       29.0      UPW   \n",
       "1               12                 0.0        0.0        0.0      UPW   \n",
       "2                6                 0.0        0.0        0.0      UPW   \n",
       "\n",
       "        pdate  \n",
       "0  2016-07-20  \n",
       "1  2016-08-10  \n",
       "2  2016-08-19  \n",
       "\n",
       "[3 rows x 35 columns]"
      ]
     },
     "execution_count": 156,
     "metadata": {},
     "output_type": "execute_result"
    }
   ],
   "source": [
    "data.head(3)"
   ]
  },
  {
   "cell_type": "markdown",
   "metadata": {},
   "source": [
    "Now let's find the correlation matrix so that we can easly find out \n",
    "which feature are contributting in final output and which are not."
   ]
  },
  {
   "cell_type": "code",
   "execution_count": 157,
   "metadata": {},
   "outputs": [
    {
     "data": {
      "text/plain": [
       "<matplotlib.axes._subplots.AxesSubplot at 0x7f10ae29c5c0>"
      ]
     },
     "execution_count": 157,
     "metadata": {},
     "output_type": "execute_result"
    },
    {
     "data": {
      "image/png": "[encoded data removed]",
      "text/plain": [
       "<Figure size 3600x1296 with 2 Axes>"
      ]
     },
     "metadata": {
      "needs_background": "light"
     },
     "output_type": "display_data"
    }
   ],
   "source": [
    "#corelation matrix.\n",
    "cor_mat= data[:].corr()\n",
    "mask = np.array(cor_mat)\n",
    "mask[np.tril_indices_from(mask)] = False\n",
    "fig=plt.gcf()\n",
    "fig.set_size_inches(50,18)\n",
    "sns.heatmap(data=cor_mat,mask=mask,square=True,annot=False,cbar=True)"
   ]
  },
  {
   "cell_type": "code",
   "execution_count": 158,
   "metadata": {},
   "outputs": [
    {
     "name": "stdout",
     "output_type": "stream",
     "text": [
      "fr_da_rech90           -0.005418\n",
      "medianmarechprebal30   -0.004829\n",
      "aon                    -0.003785\n",
      "fr_da_rech30           -0.000027\n",
      "maxamnt_loans30         0.000248\n",
      "fr_ma_rech30            0.001330\n",
      "last_rech_date_da       0.001711\n",
      "cnt_da_rech90           0.002999\n",
      "last_rech_date_ma       0.003728\n",
      "cnt_da_rech30           0.003827\n",
      "cnt_loans90             0.004733\n",
      "medianamnt_loans90      0.035747\n",
      "medianmarechprebal90    0.039300\n",
      "medianamnt_loans30      0.044589\n",
      "payback30               0.048336\n",
      "payback90               0.049183\n",
      "rental30                0.058085\n",
      "rental90                0.075521\n",
      "maxamnt_loans90         0.084144\n",
      "fr_ma_rech90            0.084385\n",
      "medianamnt_ma_rech90    0.120855\n",
      "last_rech_amt_ma        0.131804\n",
      "medianamnt_ma_rech30    0.141490\n",
      "daily_decr90            0.166150\n",
      "daily_decr30            0.168298\n",
      "cnt_loans30             0.196283\n",
      "amnt_loans30            0.197272\n",
      "amnt_loans90            0.199788\n",
      "sumamnt_ma_rech30       0.202828\n",
      "sumamnt_ma_rech90       0.205793\n",
      "cnt_ma_rech90           0.236392\n",
      "cnt_ma_rech30           0.237331\n",
      "label                   1.000000\n",
      "Name: label, dtype: float64\n"
     ]
    }
   ],
   "source": [
    "correlations_data = data.corr()['label'].sort_values()\n",
    "print(correlations_data)"
   ]
  },
  {
   "cell_type": "code",
   "execution_count": 159,
   "metadata": {},
   "outputs": [],
   "source": [
    "# # # Feature Engineering and Selection\n",
    "\n",
    "def remove_collinear_features(x, threshold):\n",
    "    '''\n",
    "    Objective:\n",
    "        Remove collinear features in a dataframe with a correlation coefficient\n",
    "        greater than the threshold. Removing collinear features can help a model\n",
    "        to generalize and improves the interpretability of the model.\n",
    "        \n",
    "    Inputs: \n",
    "        threshold: any features with correlations greater than this value are removed\n",
    "    \n",
    "    Output: \n",
    "        dataframe that contains only the non-highly-collinear features\n",
    "    '''\n",
    "    \n",
    "    # Dont want to remove correlations between loss\n",
    "    y = x['label']\n",
    "    x = x.drop(columns = ['label'])\n",
    "    \n",
    "    # Calculate the correlation matrix\n",
    "    corr_matrix = x.corr()\n",
    "    iters = range(len(corr_matrix.columns) - 1)\n",
    "    drop_cols = []\n",
    "\n",
    "    # Iterate through the correlation matrix and compare correlations\n",
    "    for i in iters:\n",
    "        for j in range(i):\n",
    "            item = corr_matrix.iloc[j:(j+1), (i+1):(i+2)]\n",
    "            col = item.columns\n",
    "            row = item.index\n",
    "            val = abs(item.values)\n",
    "            \n",
    "            # If correlation exceeds the threshold\n",
    "            if val >= threshold:\n",
    "                drop_cols.append(col.values[0])\n",
    "\n",
    "    # Drop one of each pair of correlated columns\n",
    "    drops = set(drop_cols)\n",
    "    x = x.drop(columns = drops)\n",
    "    \n",
    "    # Add the score back in to the data\n",
    "    x['label'] = y\n",
    "               \n",
    "    return (x,drops)"
   ]
  },
  {
   "cell_type": "code",
   "execution_count": 160,
   "metadata": {},
   "outputs": [],
   "source": [
    "(data_copy,drops)=remove_collinear_features(data,0.6)"
   ]
  },
  {
   "cell_type": "code",
   "execution_count": 161,
   "metadata": {},
   "outputs": [
    {
     "data": {
      "text/plain": [
       "(209593, 26)"
      ]
     },
     "execution_count": 161,
     "metadata": {},
     "output_type": "execute_result"
    }
   ],
   "source": [
    "data_copy.shape"
   ]
  },
  {
   "cell_type": "code",
   "execution_count": 162,
   "metadata": {},
   "outputs": [
    {
     "data": {
      "text/plain": [
       "{'amnt_loans30',\n",
       " 'amnt_loans90',\n",
       " 'cnt_loans30',\n",
       " 'cnt_ma_rech90',\n",
       " 'medianamnt_loans90',\n",
       " 'medianamnt_ma_rech30',\n",
       " 'medianamnt_ma_rech90',\n",
       " 'sumamnt_ma_rech30',\n",
       " 'sumamnt_ma_rech90'}"
      ]
     },
     "execution_count": 162,
     "metadata": {},
     "output_type": "execute_result"
    }
   ],
   "source": [
    "drops"
   ]
  },
  {
   "cell_type": "code",
   "execution_count": 163,
   "metadata": {},
   "outputs": [
    {
     "data": {
      "text/plain": [
       "Index(['aon', 'daily_decr30', 'daily_decr90', 'rental30', 'rental90',\n",
       "       'last_rech_date_ma', 'last_rech_date_da', 'last_rech_amt_ma',\n",
       "       'cnt_ma_rech30', 'fr_ma_rech30', 'medianmarechprebal30', 'fr_ma_rech90',\n",
       "       'medianmarechprebal90', 'cnt_da_rech30', 'fr_da_rech30',\n",
       "       'cnt_da_rech90', 'fr_da_rech90', 'maxamnt_loans30',\n",
       "       'medianamnt_loans30', 'cnt_loans90', 'maxamnt_loans90', 'payback30',\n",
       "       'payback90', 'pcircle', 'pdate', 'label'],\n",
       "      dtype='object')"
      ]
     },
     "execution_count": 163,
     "metadata": {},
     "output_type": "execute_result"
    }
   ],
   "source": [
    "data_copy.columns"
   ]
  },
  {
   "cell_type": "code",
   "execution_count": 164,
   "metadata": {},
   "outputs": [
    {
     "data": {
      "text/plain": [
       "UPW    209593\n",
       "Name: pcircle, dtype: int64"
      ]
     },
     "execution_count": 164,
     "metadata": {},
     "output_type": "execute_result"
    }
   ],
   "source": [
    "data_copy['pcircle'].value_counts()"
   ]
  },
  {
   "cell_type": "code",
   "execution_count": 165,
   "metadata": {},
   "outputs": [
    {
     "data": {
      "text/plain": [
       "2016-07-04    3150\n",
       "2016-07-05    3127\n",
       "2016-07-07    3116\n",
       "2016-06-20    3099\n",
       "2016-06-17    3082\n",
       "2016-07-06    3041\n",
       "2016-06-15    3033\n",
       "2016-07-11    3020\n",
       "2016-07-10    3014\n",
       "2016-06-27    2999\n",
       "2016-06-18    2972\n",
       "2016-06-23    2964\n",
       "2016-07-12    2962\n",
       "2016-06-25    2956\n",
       "2016-07-01    2954\n",
       "2016-07-13    2953\n",
       "2016-06-14    2945\n",
       "2016-06-12    2936\n",
       "2016-07-18    2926\n",
       "2016-07-09    2922\n",
       "2016-07-14    2920\n",
       "2016-06-11    2915\n",
       "2016-07-02    2910\n",
       "2016-07-15    2908\n",
       "2016-06-22    2906\n",
       "2016-07-03    2905\n",
       "2016-06-26    2901\n",
       "2016-06-13    2897\n",
       "2016-07-19    2892\n",
       "2016-07-08    2891\n",
       "              ... \n",
       "2016-08-04    2445\n",
       "2016-08-08    2428\n",
       "2016-08-07    2408\n",
       "2016-08-06    2358\n",
       "2016-08-02    2352\n",
       "2016-08-01    2335\n",
       "2016-07-24    2318\n",
       "2016-07-25    2313\n",
       "2016-07-30    2307\n",
       "2016-08-05    2298\n",
       "2016-07-27    2284\n",
       "2016-07-26    2273\n",
       "2016-07-29    2245\n",
       "2016-07-28    2233\n",
       "2016-08-03    2213\n",
       "2016-08-09    2191\n",
       "2016-07-31    2178\n",
       "2016-08-10    2178\n",
       "2016-08-11    2157\n",
       "2016-08-12    2130\n",
       "2016-08-13    2119\n",
       "2016-08-14    1951\n",
       "2016-08-16    1893\n",
       "2016-08-15    1879\n",
       "2016-08-17    1688\n",
       "2016-06-04    1559\n",
       "2016-08-18    1407\n",
       "2016-08-19    1132\n",
       "2016-08-20     788\n",
       "2016-08-21     324\n",
       "Name: pdate, Length: 82, dtype: int64"
      ]
     },
     "execution_count": 165,
     "metadata": {},
     "output_type": "execute_result"
    }
   ],
   "source": [
    "data_copy['pdate'].value_counts()"
   ]
  },
  {
   "cell_type": "code",
   "execution_count": 166,
   "metadata": {},
   "outputs": [],
   "source": [
    "#Drop the pcircle and pdate \n",
    "data_copy.drop([\"pcircle\", \"pdate\"], inplace=True, axis=1)"
   ]
  },
  {
   "cell_type": "code",
   "execution_count": 167,
   "metadata": {},
   "outputs": [
    {
     "data": {
      "text/plain": [
       "(209593, 24)"
      ]
     },
     "execution_count": 167,
     "metadata": {},
     "output_type": "execute_result"
    }
   ],
   "source": [
    "data_copy.shape"
   ]
  },
  {
   "cell_type": "code",
   "execution_count": 168,
   "metadata": {},
   "outputs": [
    {
     "data": {
      "text/html": [
       "<div>\n",
       "<style scoped>\n",
       "    .dataframe tbody tr th:only-of-type {\n",
       "        vertical-align: middle;\n",
       "    }\n",
       "\n",
       "    .dataframe tbody tr th {\n",
       "        vertical-align: top;\n",
       "    }\n",
       "\n",
       "    .dataframe thead th {\n",
       "        text-align: right;\n",
       "    }\n",
       "</style>\n",
       "<table border=\"1\" class=\"dataframe\">\n",
       "  <thead>\n",
       "    <tr style=\"text-align: right;\">\n",
       "      <th></th>\n",
       "      <th>aon</th>\n",
       "      <th>daily_decr30</th>\n",
       "      <th>daily_decr90</th>\n",
       "      <th>rental30</th>\n",
       "      <th>rental90</th>\n",
       "      <th>last_rech_date_ma</th>\n",
       "      <th>last_rech_date_da</th>\n",
       "      <th>last_rech_amt_ma</th>\n",
       "      <th>cnt_ma_rech30</th>\n",
       "      <th>fr_ma_rech30</th>\n",
       "      <th>...</th>\n",
       "      <th>fr_da_rech30</th>\n",
       "      <th>cnt_da_rech90</th>\n",
       "      <th>fr_da_rech90</th>\n",
       "      <th>maxamnt_loans30</th>\n",
       "      <th>medianamnt_loans30</th>\n",
       "      <th>cnt_loans90</th>\n",
       "      <th>maxamnt_loans90</th>\n",
       "      <th>payback30</th>\n",
       "      <th>payback90</th>\n",
       "      <th>label</th>\n",
       "    </tr>\n",
       "  </thead>\n",
       "  <tbody>\n",
       "    <tr>\n",
       "      <th>0</th>\n",
       "      <td>272.0</td>\n",
       "      <td>3055.050000</td>\n",
       "      <td>3065.150000</td>\n",
       "      <td>220.13</td>\n",
       "      <td>260.13</td>\n",
       "      <td>2.0</td>\n",
       "      <td>0.0</td>\n",
       "      <td>1539</td>\n",
       "      <td>2</td>\n",
       "      <td>21.0</td>\n",
       "      <td>...</td>\n",
       "      <td>0.0</td>\n",
       "      <td>0</td>\n",
       "      <td>0</td>\n",
       "      <td>6.0</td>\n",
       "      <td>0.0</td>\n",
       "      <td>2.0</td>\n",
       "      <td>6</td>\n",
       "      <td>29.000000</td>\n",
       "      <td>29.000000</td>\n",
       "      <td>0</td>\n",
       "    </tr>\n",
       "    <tr>\n",
       "      <th>1</th>\n",
       "      <td>712.0</td>\n",
       "      <td>12122.000000</td>\n",
       "      <td>12124.750000</td>\n",
       "      <td>3691.26</td>\n",
       "      <td>3691.26</td>\n",
       "      <td>20.0</td>\n",
       "      <td>0.0</td>\n",
       "      <td>5787</td>\n",
       "      <td>1</td>\n",
       "      <td>0.0</td>\n",
       "      <td>...</td>\n",
       "      <td>0.0</td>\n",
       "      <td>0</td>\n",
       "      <td>0</td>\n",
       "      <td>12.0</td>\n",
       "      <td>0.0</td>\n",
       "      <td>1.0</td>\n",
       "      <td>12</td>\n",
       "      <td>0.000000</td>\n",
       "      <td>0.000000</td>\n",
       "      <td>1</td>\n",
       "    </tr>\n",
       "    <tr>\n",
       "      <th>2</th>\n",
       "      <td>535.0</td>\n",
       "      <td>1398.000000</td>\n",
       "      <td>1398.000000</td>\n",
       "      <td>900.13</td>\n",
       "      <td>900.13</td>\n",
       "      <td>3.0</td>\n",
       "      <td>0.0</td>\n",
       "      <td>1539</td>\n",
       "      <td>1</td>\n",
       "      <td>0.0</td>\n",
       "      <td>...</td>\n",
       "      <td>0.0</td>\n",
       "      <td>0</td>\n",
       "      <td>0</td>\n",
       "      <td>6.0</td>\n",
       "      <td>0.0</td>\n",
       "      <td>1.0</td>\n",
       "      <td>6</td>\n",
       "      <td>0.000000</td>\n",
       "      <td>0.000000</td>\n",
       "      <td>1</td>\n",
       "    </tr>\n",
       "    <tr>\n",
       "      <th>3</th>\n",
       "      <td>241.0</td>\n",
       "      <td>21.228000</td>\n",
       "      <td>21.228000</td>\n",
       "      <td>159.42</td>\n",
       "      <td>159.42</td>\n",
       "      <td>41.0</td>\n",
       "      <td>0.0</td>\n",
       "      <td>947</td>\n",
       "      <td>0</td>\n",
       "      <td>0.0</td>\n",
       "      <td>...</td>\n",
       "      <td>0.0</td>\n",
       "      <td>0</td>\n",
       "      <td>0</td>\n",
       "      <td>6.0</td>\n",
       "      <td>0.0</td>\n",
       "      <td>2.0</td>\n",
       "      <td>6</td>\n",
       "      <td>0.000000</td>\n",
       "      <td>0.000000</td>\n",
       "      <td>1</td>\n",
       "    </tr>\n",
       "    <tr>\n",
       "      <th>4</th>\n",
       "      <td>947.0</td>\n",
       "      <td>150.619333</td>\n",
       "      <td>150.619333</td>\n",
       "      <td>1098.90</td>\n",
       "      <td>1098.90</td>\n",
       "      <td>4.0</td>\n",
       "      <td>0.0</td>\n",
       "      <td>2309</td>\n",
       "      <td>7</td>\n",
       "      <td>2.0</td>\n",
       "      <td>...</td>\n",
       "      <td>0.0</td>\n",
       "      <td>0</td>\n",
       "      <td>0</td>\n",
       "      <td>6.0</td>\n",
       "      <td>0.0</td>\n",
       "      <td>7.0</td>\n",
       "      <td>6</td>\n",
       "      <td>2.333333</td>\n",
       "      <td>2.333333</td>\n",
       "      <td>1</td>\n",
       "    </tr>\n",
       "  </tbody>\n",
       "</table>\n",
       "<p>5 rows × 24 columns</p>\n",
       "</div>"
      ],
      "text/plain": [
       "     aon  daily_decr30  daily_decr90  rental30  rental90  last_rech_date_ma  \\\n",
       "0  272.0   3055.050000   3065.150000    220.13    260.13                2.0   \n",
       "1  712.0  12122.000000  12124.750000   3691.26   3691.26               20.0   \n",
       "2  535.0   1398.000000   1398.000000    900.13    900.13                3.0   \n",
       "3  241.0     21.228000     21.228000    159.42    159.42               41.0   \n",
       "4  947.0    150.619333    150.619333   1098.90   1098.90                4.0   \n",
       "\n",
       "   last_rech_date_da  last_rech_amt_ma  cnt_ma_rech30  fr_ma_rech30  ...  \\\n",
       "0                0.0              1539              2          21.0  ...   \n",
       "1                0.0              5787              1           0.0  ...   \n",
       "2                0.0              1539              1           0.0  ...   \n",
       "3                0.0               947              0           0.0  ...   \n",
       "4                0.0              2309              7           2.0  ...   \n",
       "\n",
       "   fr_da_rech30  cnt_da_rech90  fr_da_rech90  maxamnt_loans30  \\\n",
       "0           0.0              0             0              6.0   \n",
       "1           0.0              0             0             12.0   \n",
       "2           0.0              0             0              6.0   \n",
       "3           0.0              0             0              6.0   \n",
       "4           0.0              0             0              6.0   \n",
       "\n",
       "   medianamnt_loans30  cnt_loans90  maxamnt_loans90  payback30  payback90  \\\n",
       "0                 0.0          2.0                6  29.000000  29.000000   \n",
       "1                 0.0          1.0               12   0.000000   0.000000   \n",
       "2                 0.0          1.0                6   0.000000   0.000000   \n",
       "3                 0.0          2.0                6   0.000000   0.000000   \n",
       "4                 0.0          7.0                6   2.333333   2.333333   \n",
       "\n",
       "   label  \n",
       "0      0  \n",
       "1      1  \n",
       "2      1  \n",
       "3      1  \n",
       "4      1  \n",
       "\n",
       "[5 rows x 24 columns]"
      ]
     },
     "execution_count": 168,
     "metadata": {},
     "output_type": "execute_result"
    }
   ],
   "source": [
    "data_copy.head()"
   ]
  },
  {
   "cell_type": "code",
   "execution_count": 169,
   "metadata": {},
   "outputs": [],
   "source": [
    "labels = data_copy['label']\n",
    "training_data = data_copy.drop('label',axis=1)"
   ]
  },
  {
   "cell_type": "code",
   "execution_count": 170,
   "metadata": {},
   "outputs": [
    {
     "name": "stdout",
     "output_type": "stream",
     "text": [
      "(209593, 23)\n",
      "(209593,)\n"
     ]
    }
   ],
   "source": [
    "print(training_data.shape)\n",
    "print(labels.shape)"
   ]
  },
  {
   "cell_type": "code",
   "execution_count": 173,
   "metadata": {},
   "outputs": [],
   "source": [
    "#split the dataset into train and test set\n",
    "X_train,X_test,Y_train,Y_test = train_test_split(training_data, labels, test_size=0.2, random_state=42)"
   ]
  },
  {
   "cell_type": "code",
   "execution_count": 175,
   "metadata": {},
   "outputs": [
    {
     "name": "stderr",
     "output_type": "stream",
     "text": [
      "/home/vs/anaconda3/envs/sagacito/lib/python3.7/site-packages/sklearn/preprocessing/data.py:645: DataConversionWarning: Data with input dtype int64, float64 were all converted to float64 by StandardScaler.\n",
      "  return self.partial_fit(X, y)\n",
      "/home/vs/anaconda3/envs/sagacito/lib/python3.7/site-packages/sklearn/base.py:464: DataConversionWarning: Data with input dtype int64, float64 were all converted to float64 by StandardScaler.\n",
      "  return self.fit(X, **fit_params).transform(X)\n",
      "/home/vs/anaconda3/envs/sagacito/lib/python3.7/site-packages/sklearn/preprocessing/data.py:645: DataConversionWarning: Data with input dtype int64, float64 were all converted to float64 by StandardScaler.\n",
      "  return self.partial_fit(X, y)\n",
      "/home/vs/anaconda3/envs/sagacito/lib/python3.7/site-packages/sklearn/base.py:464: DataConversionWarning: Data with input dtype int64, float64 were all converted to float64 by StandardScaler.\n",
      "  return self.fit(X, **fit_params).transform(X)\n"
     ]
    }
   ],
   "source": [
    "#Feature scaling\n",
    "sc=StandardScaler()\n",
    "X_train=sc.fit_transform(X_train)\n",
    "X_test=sc.fit_transform(X_test)"
   ]
  },
  {
   "cell_type": "code",
   "execution_count": 176,
   "metadata": {},
   "outputs": [],
   "source": [
    "Y_train = np.array(Y_train).reshape((-1, ))\n",
    "Y_test = np.array(Y_test).reshape((-1, ))"
   ]
  },
  {
   "cell_type": "code",
   "execution_count": 177,
   "metadata": {},
   "outputs": [
    {
     "name": "stdout",
     "output_type": "stream",
     "text": [
      "(167674, 23)\n",
      "(41919, 23)\n",
      "(167674,)\n",
      "(41919,)\n"
     ]
    }
   ],
   "source": [
    "print(X_train.shape)\n",
    "print(X_test.shape)\n",
    "print(Y_train.shape)\n",
    "print(Y_test.shape)"
   ]
  },
  {
   "cell_type": "markdown",
   "metadata": {},
   "source": [
    "# Training LogisticRegression model"
   ]
  },
  {
   "cell_type": "code",
   "execution_count": 178,
   "metadata": {},
   "outputs": [
    {
     "name": "stderr",
     "output_type": "stream",
     "text": [
      "/home/vs/anaconda3/envs/sagacito/lib/python3.7/site-packages/sklearn/linear_model/logistic.py:433: FutureWarning: Default solver will be changed to 'lbfgs' in 0.22. Specify a solver to silence this warning.\n",
      "  FutureWarning)\n"
     ]
    },
    {
     "name": "stdout",
     "output_type": "stream",
     "text": [
      "Train Accuracy ::  0.8765879027159846\n",
      "Test Accuracy  ::  0.874973162527732\n"
     ]
    }
   ],
   "source": [
    "lr_model=LogisticRegression()\n",
    "lr_model.fit(X_train, Y_train)\n",
    "pred_label_lr = lr_model.predict(X_test)\n",
    "\n",
    "print( \"Train Accuracy :: \", accuracy_score(Y_train, lr_model.predict(X_train)))\n",
    "print( \"Test Accuracy  :: \", accuracy_score(Y_test, pred_label_lr))\n"
   ]
  },
  {
   "cell_type": "code",
   "execution_count": 179,
   "metadata": {},
   "outputs": [
    {
     "name": "stdout",
     "output_type": "stream",
     "text": [
      "              precision    recall  f1-score   support\n",
      "\n",
      "           0       0.64      0.02      0.05      5297\n",
      "           1       0.88      1.00      0.93     36622\n",
      "\n",
      "   micro avg       0.87      0.87      0.87     41919\n",
      "   macro avg       0.76      0.51      0.49     41919\n",
      "weighted avg       0.85      0.87      0.82     41919\n",
      "\n"
     ]
    }
   ],
   "source": [
    "#classification report of logistic regression\n",
    "print(classification_report(Y_test, pred_label_lr, target_names=['0', '1']))"
   ]
  },
  {
   "cell_type": "markdown",
   "metadata": {},
   "source": [
    "# Training Random Forest model"
   ]
  },
  {
   "cell_type": "code",
   "execution_count": 180,
   "metadata": {},
   "outputs": [
    {
     "name": "stdout",
     "output_type": "stream",
     "text": [
      "Train Accuracy ::  0.9946085857079809\n",
      "Test Accuracy  ::  0.8758558171712112\n"
     ]
    }
   ],
   "source": [
    "RF_model=RandomForestClassifier(n_estimators = 10, criterion = 'entropy')\n",
    "RF_model.fit(X_train, Y_train)\n",
    "pred_label_rf = RF_model.predict(X_test)\n",
    "\n",
    "print( \"Train Accuracy :: \", accuracy_score(Y_train, RF_model.predict(X_train)))\n",
    "print( \"Test Accuracy  :: \", accuracy_score(Y_test, pred_label_rf))\n"
   ]
  },
  {
   "cell_type": "code",
   "execution_count": 181,
   "metadata": {},
   "outputs": [
    {
     "name": "stdout",
     "output_type": "stream",
     "text": [
      "              precision    recall  f1-score   support\n",
      "\n",
      "           0       0.53      0.14      0.22      5297\n",
      "           1       0.89      0.98      0.93     36622\n",
      "\n",
      "   micro avg       0.88      0.88      0.88     41919\n",
      "   macro avg       0.71      0.56      0.57     41919\n",
      "weighted avg       0.84      0.88      0.84     41919\n",
      "\n"
     ]
    }
   ],
   "source": [
    "#classification report\n",
    "print(classification_report(Y_test, pred_label_rf, target_names=['0', '1']))"
   ]
  },
  {
   "cell_type": "code",
   "execution_count": null,
   "metadata": {},
   "outputs": [],
   "source": []
  }
 ],
 "metadata": {
  "kernelspec": {
   "display_name": "Python 3",
   "language": "python",
   "name": "python3"
  },
  "language_info": {
   "codemirror_mode": {
    "name": "ipython",
    "version": 3
   },
   "file_extension": ".py",
   "mimetype": "text/x-python",
   "name": "python",
   "nbconvert_exporter": "python",
   "pygments_lexer": "ipython3",
   "version": "3.7.3"
  }
 },
 "nbformat": 4,
 "nbformat_minor": 2
}
